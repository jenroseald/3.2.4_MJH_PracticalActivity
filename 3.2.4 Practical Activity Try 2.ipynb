{
 "cells": [
  {
   "cell_type": "markdown",
   "id": "c2fd1662",
   "metadata": {},
   "source": [
    "## 3.2.4 Activity Second Try"
   ]
  },
  {
   "cell_type": "code",
   "execution_count": 1,
   "id": "eeccbcd1",
   "metadata": {},
   "outputs": [],
   "source": [
    "# Import packages\n",
    "import pandas as pd\n",
    "import numpy as np"
   ]
  },
  {
   "cell_type": "code",
   "execution_count": 2,
   "id": "d7a7cfbd",
   "metadata": {},
   "outputs": [],
   "source": [
    "movies = pd.read_excel('movies_merge.xlsx')\n",
    "ott = pd.read_csv('ott_merge.csv')"
   ]
  },
  {
   "cell_type": "code",
   "execution_count": 3,
   "id": "1a8b8d3b",
   "metadata": {},
   "outputs": [],
   "source": [
    "mov_ott = pd.merge(movies, ott, how='left', on='ID')"
   ]
  },
  {
   "cell_type": "code",
   "execution_count": 4,
   "id": "10576d9e",
   "metadata": {},
   "outputs": [],
   "source": [
    "# Files now imported and merged"
   ]
  },
  {
   "cell_type": "markdown",
   "id": "df22d605",
   "metadata": {},
   "source": [
    "### Subset data to just ID, Runtime and Genre"
   ]
  },
  {
   "cell_type": "code",
   "execution_count": 5,
   "id": "a704ab8b",
   "metadata": {},
   "outputs": [],
   "source": [
    "mov_ott_subset = mov_ott[['ID', 'Runtime', 'Genres']]"
   ]
  },
  {
   "cell_type": "code",
   "execution_count": 6,
   "id": "93d7e585",
   "metadata": {},
   "outputs": [
    {
     "data": {
      "text/html": [
       "<div>\n",
       "<style scoped>\n",
       "    .dataframe tbody tr th:only-of-type {\n",
       "        vertical-align: middle;\n",
       "    }\n",
       "\n",
       "    .dataframe tbody tr th {\n",
       "        vertical-align: top;\n",
       "    }\n",
       "\n",
       "    .dataframe thead th {\n",
       "        text-align: right;\n",
       "    }\n",
       "</style>\n",
       "<table border=\"1\" class=\"dataframe\">\n",
       "  <thead>\n",
       "    <tr style=\"text-align: right;\">\n",
       "      <th></th>\n",
       "      <th>ID</th>\n",
       "      <th>Runtime</th>\n",
       "      <th>Genres</th>\n",
       "    </tr>\n",
       "  </thead>\n",
       "  <tbody>\n",
       "    <tr>\n",
       "      <th>0</th>\n",
       "      <td>1</td>\n",
       "      <td>148.0</td>\n",
       "      <td>Action,Adventure,Sci-Fi,Thriller</td>\n",
       "    </tr>\n",
       "    <tr>\n",
       "      <th>1</th>\n",
       "      <td>2</td>\n",
       "      <td>136.0</td>\n",
       "      <td>Action,Sci-Fi</td>\n",
       "    </tr>\n",
       "    <tr>\n",
       "      <th>2</th>\n",
       "      <td>3</td>\n",
       "      <td>149.0</td>\n",
       "      <td>Action,Adventure,Sci-Fi</td>\n",
       "    </tr>\n",
       "    <tr>\n",
       "      <th>3</th>\n",
       "      <td>4</td>\n",
       "      <td>116.0</td>\n",
       "      <td>Adventure,Comedy,Sci-Fi</td>\n",
       "    </tr>\n",
       "    <tr>\n",
       "      <th>4</th>\n",
       "      <td>5</td>\n",
       "      <td>161.0</td>\n",
       "      <td>Western</td>\n",
       "    </tr>\n",
       "  </tbody>\n",
       "</table>\n",
       "</div>"
      ],
      "text/plain": [
       "   ID  Runtime                            Genres\n",
       "0   1    148.0  Action,Adventure,Sci-Fi,Thriller\n",
       "1   2    136.0                     Action,Sci-Fi\n",
       "2   3    149.0           Action,Adventure,Sci-Fi\n",
       "3   4    116.0           Adventure,Comedy,Sci-Fi\n",
       "4   5    161.0                           Western"
      ]
     },
     "execution_count": 6,
     "metadata": {},
     "output_type": "execute_result"
    }
   ],
   "source": [
    "mov_ott_subset.head()"
   ]
  },
  {
   "cell_type": "code",
   "execution_count": 7,
   "id": "df71d939",
   "metadata": {},
   "outputs": [],
   "source": [
    "# Add 1 minute onto runtime"
   ]
  },
  {
   "cell_type": "code",
   "execution_count": 8,
   "id": "c3bfa6a4",
   "metadata": {},
   "outputs": [
    {
     "data": {
      "text/plain": [
       "0        149.0\n",
       "1        137.0\n",
       "2        150.0\n",
       "3        117.0\n",
       "4        162.0\n",
       "         ...  \n",
       "16739    121.0\n",
       "16740     91.0\n",
       "16741      NaN\n",
       "16742      NaN\n",
       "16743     33.0\n",
       "Name: Runtime, Length: 16744, dtype: float64"
      ]
     },
     "execution_count": 8,
     "metadata": {},
     "output_type": "execute_result"
    }
   ],
   "source": [
    "mov_ott_subset['Runtime'].add(1)"
   ]
  },
  {
   "cell_type": "code",
   "execution_count": 9,
   "id": "91fbf971",
   "metadata": {},
   "outputs": [],
   "source": [
    "# Create a new column in the DF to indicate Documentary Genre status"
   ]
  },
  {
   "cell_type": "code",
   "execution_count": 10,
   "id": "9d14cae5",
   "metadata": {},
   "outputs": [],
   "source": [
    "mov_ott_subset = pd.DataFrame(mov_ott_subset, columns=['ID', 'Runtime', 'Genres', 'Gen_doc'])"
   ]
  },
  {
   "cell_type": "code",
   "execution_count": 11,
   "id": "b239449f",
   "metadata": {},
   "outputs": [
    {
     "data": {
      "text/html": [
       "<div>\n",
       "<style scoped>\n",
       "    .dataframe tbody tr th:only-of-type {\n",
       "        vertical-align: middle;\n",
       "    }\n",
       "\n",
       "    .dataframe tbody tr th {\n",
       "        vertical-align: top;\n",
       "    }\n",
       "\n",
       "    .dataframe thead th {\n",
       "        text-align: right;\n",
       "    }\n",
       "</style>\n",
       "<table border=\"1\" class=\"dataframe\">\n",
       "  <thead>\n",
       "    <tr style=\"text-align: right;\">\n",
       "      <th></th>\n",
       "      <th>ID</th>\n",
       "      <th>Runtime</th>\n",
       "      <th>Genres</th>\n",
       "      <th>Gen_doc</th>\n",
       "    </tr>\n",
       "  </thead>\n",
       "  <tbody>\n",
       "    <tr>\n",
       "      <th>0</th>\n",
       "      <td>1</td>\n",
       "      <td>148.0</td>\n",
       "      <td>Action,Adventure,Sci-Fi,Thriller</td>\n",
       "      <td>NaN</td>\n",
       "    </tr>\n",
       "    <tr>\n",
       "      <th>1</th>\n",
       "      <td>2</td>\n",
       "      <td>136.0</td>\n",
       "      <td>Action,Sci-Fi</td>\n",
       "      <td>NaN</td>\n",
       "    </tr>\n",
       "    <tr>\n",
       "      <th>2</th>\n",
       "      <td>3</td>\n",
       "      <td>149.0</td>\n",
       "      <td>Action,Adventure,Sci-Fi</td>\n",
       "      <td>NaN</td>\n",
       "    </tr>\n",
       "    <tr>\n",
       "      <th>3</th>\n",
       "      <td>4</td>\n",
       "      <td>116.0</td>\n",
       "      <td>Adventure,Comedy,Sci-Fi</td>\n",
       "      <td>NaN</td>\n",
       "    </tr>\n",
       "    <tr>\n",
       "      <th>4</th>\n",
       "      <td>5</td>\n",
       "      <td>161.0</td>\n",
       "      <td>Western</td>\n",
       "      <td>NaN</td>\n",
       "    </tr>\n",
       "    <tr>\n",
       "      <th>...</th>\n",
       "      <td>...</td>\n",
       "      <td>...</td>\n",
       "      <td>...</td>\n",
       "      <td>...</td>\n",
       "    </tr>\n",
       "    <tr>\n",
       "      <th>16739</th>\n",
       "      <td>16740</td>\n",
       "      <td>120.0</td>\n",
       "      <td>Comedy,Family,Fantasy,Horror</td>\n",
       "      <td>NaN</td>\n",
       "    </tr>\n",
       "    <tr>\n",
       "      <th>16740</th>\n",
       "      <td>16741</td>\n",
       "      <td>90.0</td>\n",
       "      <td>Comedy,Family,Sci-Fi</td>\n",
       "      <td>NaN</td>\n",
       "    </tr>\n",
       "    <tr>\n",
       "      <th>16741</th>\n",
       "      <td>16742</td>\n",
       "      <td>NaN</td>\n",
       "      <td>Documentary</td>\n",
       "      <td>NaN</td>\n",
       "    </tr>\n",
       "    <tr>\n",
       "      <th>16742</th>\n",
       "      <td>16743</td>\n",
       "      <td>NaN</td>\n",
       "      <td>Documentary</td>\n",
       "      <td>NaN</td>\n",
       "    </tr>\n",
       "    <tr>\n",
       "      <th>16743</th>\n",
       "      <td>16744</td>\n",
       "      <td>32.0</td>\n",
       "      <td>Documentary,Short,Family</td>\n",
       "      <td>NaN</td>\n",
       "    </tr>\n",
       "  </tbody>\n",
       "</table>\n",
       "<p>16744 rows × 4 columns</p>\n",
       "</div>"
      ],
      "text/plain": [
       "          ID  Runtime                            Genres  Gen_doc\n",
       "0          1    148.0  Action,Adventure,Sci-Fi,Thriller      NaN\n",
       "1          2    136.0                     Action,Sci-Fi      NaN\n",
       "2          3    149.0           Action,Adventure,Sci-Fi      NaN\n",
       "3          4    116.0           Adventure,Comedy,Sci-Fi      NaN\n",
       "4          5    161.0                           Western      NaN\n",
       "...      ...      ...                               ...      ...\n",
       "16739  16740    120.0      Comedy,Family,Fantasy,Horror      NaN\n",
       "16740  16741     90.0              Comedy,Family,Sci-Fi      NaN\n",
       "16741  16742      NaN                       Documentary      NaN\n",
       "16742  16743      NaN                       Documentary      NaN\n",
       "16743  16744     32.0          Documentary,Short,Family      NaN\n",
       "\n",
       "[16744 rows x 4 columns]"
      ]
     },
     "execution_count": 11,
     "metadata": {},
     "output_type": "execute_result"
    }
   ],
   "source": [
    "mov_ott_subset"
   ]
  },
  {
   "cell_type": "code",
   "execution_count": 13,
   "id": "54bb940f",
   "metadata": {},
   "outputs": [],
   "source": [
    "# Identify Documentaries and Non-documentaries\n",
    "# Recored these in the Gen_doc column"
   ]
  },
  {
   "cell_type": "code",
   "execution_count": 14,
   "id": "682ad08b",
   "metadata": {},
   "outputs": [
    {
     "data": {
      "text/html": [
       "<div>\n",
       "<style scoped>\n",
       "    .dataframe tbody tr th:only-of-type {\n",
       "        vertical-align: middle;\n",
       "    }\n",
       "\n",
       "    .dataframe tbody tr th {\n",
       "        vertical-align: top;\n",
       "    }\n",
       "\n",
       "    .dataframe thead th {\n",
       "        text-align: right;\n",
       "    }\n",
       "</style>\n",
       "<table border=\"1\" class=\"dataframe\">\n",
       "  <thead>\n",
       "    <tr style=\"text-align: right;\">\n",
       "      <th></th>\n",
       "      <th>ID</th>\n",
       "      <th>Runtime</th>\n",
       "      <th>Genres</th>\n",
       "      <th>Gen_doc</th>\n",
       "    </tr>\n",
       "  </thead>\n",
       "  <tbody>\n",
       "    <tr>\n",
       "      <th>0</th>\n",
       "      <td>1</td>\n",
       "      <td>148.0</td>\n",
       "      <td>Action,Adventure,Sci-Fi,Thriller</td>\n",
       "      <td>NaN</td>\n",
       "    </tr>\n",
       "    <tr>\n",
       "      <th>1</th>\n",
       "      <td>2</td>\n",
       "      <td>136.0</td>\n",
       "      <td>Action,Sci-Fi</td>\n",
       "      <td>NaN</td>\n",
       "    </tr>\n",
       "    <tr>\n",
       "      <th>2</th>\n",
       "      <td>3</td>\n",
       "      <td>149.0</td>\n",
       "      <td>Action,Adventure,Sci-Fi</td>\n",
       "      <td>NaN</td>\n",
       "    </tr>\n",
       "    <tr>\n",
       "      <th>3</th>\n",
       "      <td>4</td>\n",
       "      <td>116.0</td>\n",
       "      <td>Adventure,Comedy,Sci-Fi</td>\n",
       "      <td>NaN</td>\n",
       "    </tr>\n",
       "    <tr>\n",
       "      <th>4</th>\n",
       "      <td>5</td>\n",
       "      <td>161.0</td>\n",
       "      <td>Western</td>\n",
       "      <td>NaN</td>\n",
       "    </tr>\n",
       "  </tbody>\n",
       "</table>\n",
       "</div>"
      ],
      "text/plain": [
       "   ID  Runtime                            Genres  Gen_doc\n",
       "0   1    148.0  Action,Adventure,Sci-Fi,Thriller      NaN\n",
       "1   2    136.0                     Action,Sci-Fi      NaN\n",
       "2   3    149.0           Action,Adventure,Sci-Fi      NaN\n",
       "3   4    116.0           Adventure,Comedy,Sci-Fi      NaN\n",
       "4   5    161.0                           Western      NaN"
      ]
     },
     "execution_count": 14,
     "metadata": {},
     "output_type": "execute_result"
    }
   ],
   "source": [
    "mov_ott_subset.head()"
   ]
  },
  {
   "cell_type": "code",
   "execution_count": 15,
   "id": "79b92ac4",
   "metadata": {},
   "outputs": [],
   "source": [
    "mov_ott_subset['Gen_doc'] = np.where(mov_ott_subset['Genres'].str.contains('Documentary'), 'Documentary', 'Not Documentary')"
   ]
  },
  {
   "cell_type": "code",
   "execution_count": 16,
   "id": "8f7c0d8e",
   "metadata": {},
   "outputs": [
    {
     "data": {
      "text/html": [
       "<div>\n",
       "<style scoped>\n",
       "    .dataframe tbody tr th:only-of-type {\n",
       "        vertical-align: middle;\n",
       "    }\n",
       "\n",
       "    .dataframe tbody tr th {\n",
       "        vertical-align: top;\n",
       "    }\n",
       "\n",
       "    .dataframe thead th {\n",
       "        text-align: right;\n",
       "    }\n",
       "</style>\n",
       "<table border=\"1\" class=\"dataframe\">\n",
       "  <thead>\n",
       "    <tr style=\"text-align: right;\">\n",
       "      <th></th>\n",
       "      <th>ID</th>\n",
       "      <th>Runtime</th>\n",
       "      <th>Genres</th>\n",
       "      <th>Gen_doc</th>\n",
       "    </tr>\n",
       "  </thead>\n",
       "  <tbody>\n",
       "    <tr>\n",
       "      <th>0</th>\n",
       "      <td>1</td>\n",
       "      <td>148.0</td>\n",
       "      <td>Action,Adventure,Sci-Fi,Thriller</td>\n",
       "      <td>Not Documentary</td>\n",
       "    </tr>\n",
       "    <tr>\n",
       "      <th>1</th>\n",
       "      <td>2</td>\n",
       "      <td>136.0</td>\n",
       "      <td>Action,Sci-Fi</td>\n",
       "      <td>Not Documentary</td>\n",
       "    </tr>\n",
       "    <tr>\n",
       "      <th>2</th>\n",
       "      <td>3</td>\n",
       "      <td>149.0</td>\n",
       "      <td>Action,Adventure,Sci-Fi</td>\n",
       "      <td>Not Documentary</td>\n",
       "    </tr>\n",
       "    <tr>\n",
       "      <th>3</th>\n",
       "      <td>4</td>\n",
       "      <td>116.0</td>\n",
       "      <td>Adventure,Comedy,Sci-Fi</td>\n",
       "      <td>Not Documentary</td>\n",
       "    </tr>\n",
       "    <tr>\n",
       "      <th>4</th>\n",
       "      <td>5</td>\n",
       "      <td>161.0</td>\n",
       "      <td>Western</td>\n",
       "      <td>Not Documentary</td>\n",
       "    </tr>\n",
       "  </tbody>\n",
       "</table>\n",
       "</div>"
      ],
      "text/plain": [
       "   ID  Runtime                            Genres          Gen_doc\n",
       "0   1    148.0  Action,Adventure,Sci-Fi,Thriller  Not Documentary\n",
       "1   2    136.0                     Action,Sci-Fi  Not Documentary\n",
       "2   3    149.0           Action,Adventure,Sci-Fi  Not Documentary\n",
       "3   4    116.0           Adventure,Comedy,Sci-Fi  Not Documentary\n",
       "4   5    161.0                           Western  Not Documentary"
      ]
     },
     "execution_count": 16,
     "metadata": {},
     "output_type": "execute_result"
    }
   ],
   "source": [
    "mov_ott_subset.head()"
   ]
  },
  {
   "cell_type": "code",
   "execution_count": 17,
   "id": "3c6f0de1",
   "metadata": {},
   "outputs": [],
   "source": [
    "# Determine the length of strings in the Gen_doc column"
   ]
  },
  {
   "cell_type": "code",
   "execution_count": 18,
   "id": "e91a0483",
   "metadata": {},
   "outputs": [
    {
     "data": {
      "text/plain": [
       "0        15\n",
       "1        15\n",
       "2        15\n",
       "3        15\n",
       "4        15\n",
       "         ..\n",
       "16739    15\n",
       "16740    15\n",
       "16741    11\n",
       "16742    11\n",
       "16743    11\n",
       "Name: Gen_doc, Length: 16744, dtype: int64"
      ]
     },
     "execution_count": 18,
     "metadata": {},
     "output_type": "execute_result"
    }
   ],
   "source": [
    "mov_ott_subset['Gen_doc'].apply(len)"
   ]
  },
  {
   "cell_type": "code",
   "execution_count": 19,
   "id": "a1a480c3",
   "metadata": {},
   "outputs": [
    {
     "data": {
      "text/plain": [
       "0        149.0\n",
       "1        137.0\n",
       "2        150.0\n",
       "3        117.0\n",
       "4        162.0\n",
       "         ...  \n",
       "16739    121.0\n",
       "16740     91.0\n",
       "16741      NaN\n",
       "16742      NaN\n",
       "16743     33.0\n",
       "Name: Runtime, Length: 16744, dtype: float64"
      ]
     },
     "execution_count": 19,
     "metadata": {},
     "output_type": "execute_result"
    }
   ],
   "source": [
    "mov_ott_subset['Runtime'].add(1)"
   ]
  },
  {
   "cell_type": "code",
   "execution_count": 20,
   "id": "7fe77637",
   "metadata": {},
   "outputs": [],
   "source": [
    "# Subtract 6 seconds (= 0.01)"
   ]
  },
  {
   "cell_type": "code",
   "execution_count": 21,
   "id": "accb6fff",
   "metadata": {},
   "outputs": [
    {
     "data": {
      "text/plain": [
       "0        147.99\n",
       "1        135.99\n",
       "2        148.99\n",
       "3        115.99\n",
       "4        160.99\n",
       "          ...  \n",
       "16739    119.99\n",
       "16740     89.99\n",
       "16741       NaN\n",
       "16742       NaN\n",
       "16743     31.99\n",
       "Name: Runtime, Length: 16744, dtype: float64"
      ]
     },
     "execution_count": 21,
     "metadata": {},
     "output_type": "execute_result"
    }
   ],
   "source": [
    "mov_ott_subset['Runtime'].subtract(0.01)"
   ]
  },
  {
   "cell_type": "code",
   "execution_count": 23,
   "id": "0cf8cb04",
   "metadata": {},
   "outputs": [],
   "source": [
    "# Practise using the lambda function to add and subtract"
   ]
  },
  {
   "cell_type": "code",
   "execution_count": 24,
   "id": "3fc9194b",
   "metadata": {},
   "outputs": [],
   "source": [
    "mov_ott_subset['Runtime'] = mov_ott_subset['Runtime'].apply(lambda x: x+1)"
   ]
  },
  {
   "cell_type": "code",
   "execution_count": 25,
   "id": "da68fd09",
   "metadata": {},
   "outputs": [
    {
     "data": {
      "text/html": [
       "<div>\n",
       "<style scoped>\n",
       "    .dataframe tbody tr th:only-of-type {\n",
       "        vertical-align: middle;\n",
       "    }\n",
       "\n",
       "    .dataframe tbody tr th {\n",
       "        vertical-align: top;\n",
       "    }\n",
       "\n",
       "    .dataframe thead th {\n",
       "        text-align: right;\n",
       "    }\n",
       "</style>\n",
       "<table border=\"1\" class=\"dataframe\">\n",
       "  <thead>\n",
       "    <tr style=\"text-align: right;\">\n",
       "      <th></th>\n",
       "      <th>ID</th>\n",
       "      <th>Runtime</th>\n",
       "      <th>Genres</th>\n",
       "      <th>Gen_doc</th>\n",
       "    </tr>\n",
       "  </thead>\n",
       "  <tbody>\n",
       "    <tr>\n",
       "      <th>0</th>\n",
       "      <td>1</td>\n",
       "      <td>149.0</td>\n",
       "      <td>Action,Adventure,Sci-Fi,Thriller</td>\n",
       "      <td>Not Documentary</td>\n",
       "    </tr>\n",
       "    <tr>\n",
       "      <th>1</th>\n",
       "      <td>2</td>\n",
       "      <td>137.0</td>\n",
       "      <td>Action,Sci-Fi</td>\n",
       "      <td>Not Documentary</td>\n",
       "    </tr>\n",
       "    <tr>\n",
       "      <th>2</th>\n",
       "      <td>3</td>\n",
       "      <td>150.0</td>\n",
       "      <td>Action,Adventure,Sci-Fi</td>\n",
       "      <td>Not Documentary</td>\n",
       "    </tr>\n",
       "    <tr>\n",
       "      <th>3</th>\n",
       "      <td>4</td>\n",
       "      <td>117.0</td>\n",
       "      <td>Adventure,Comedy,Sci-Fi</td>\n",
       "      <td>Not Documentary</td>\n",
       "    </tr>\n",
       "    <tr>\n",
       "      <th>4</th>\n",
       "      <td>5</td>\n",
       "      <td>162.0</td>\n",
       "      <td>Western</td>\n",
       "      <td>Not Documentary</td>\n",
       "    </tr>\n",
       "  </tbody>\n",
       "</table>\n",
       "</div>"
      ],
      "text/plain": [
       "   ID  Runtime                            Genres          Gen_doc\n",
       "0   1    149.0  Action,Adventure,Sci-Fi,Thriller  Not Documentary\n",
       "1   2    137.0                     Action,Sci-Fi  Not Documentary\n",
       "2   3    150.0           Action,Adventure,Sci-Fi  Not Documentary\n",
       "3   4    117.0           Adventure,Comedy,Sci-Fi  Not Documentary\n",
       "4   5    162.0                           Western  Not Documentary"
      ]
     },
     "execution_count": 25,
     "metadata": {},
     "output_type": "execute_result"
    }
   ],
   "source": [
    "mov_ott_subset.head()"
   ]
  },
  {
   "cell_type": "code",
   "execution_count": 26,
   "id": "f3a645e8",
   "metadata": {},
   "outputs": [],
   "source": [
    "mov_ott_subset['Runtime'] = mov_ott_subset['Runtime'].apply(lambda x: x-1)"
   ]
  },
  {
   "cell_type": "code",
   "execution_count": 27,
   "id": "32dec404",
   "metadata": {},
   "outputs": [
    {
     "data": {
      "text/html": [
       "<div>\n",
       "<style scoped>\n",
       "    .dataframe tbody tr th:only-of-type {\n",
       "        vertical-align: middle;\n",
       "    }\n",
       "\n",
       "    .dataframe tbody tr th {\n",
       "        vertical-align: top;\n",
       "    }\n",
       "\n",
       "    .dataframe thead th {\n",
       "        text-align: right;\n",
       "    }\n",
       "</style>\n",
       "<table border=\"1\" class=\"dataframe\">\n",
       "  <thead>\n",
       "    <tr style=\"text-align: right;\">\n",
       "      <th></th>\n",
       "      <th>ID</th>\n",
       "      <th>Runtime</th>\n",
       "      <th>Genres</th>\n",
       "      <th>Gen_doc</th>\n",
       "    </tr>\n",
       "  </thead>\n",
       "  <tbody>\n",
       "    <tr>\n",
       "      <th>0</th>\n",
       "      <td>1</td>\n",
       "      <td>148.0</td>\n",
       "      <td>Action,Adventure,Sci-Fi,Thriller</td>\n",
       "      <td>Not Documentary</td>\n",
       "    </tr>\n",
       "    <tr>\n",
       "      <th>1</th>\n",
       "      <td>2</td>\n",
       "      <td>136.0</td>\n",
       "      <td>Action,Sci-Fi</td>\n",
       "      <td>Not Documentary</td>\n",
       "    </tr>\n",
       "    <tr>\n",
       "      <th>2</th>\n",
       "      <td>3</td>\n",
       "      <td>149.0</td>\n",
       "      <td>Action,Adventure,Sci-Fi</td>\n",
       "      <td>Not Documentary</td>\n",
       "    </tr>\n",
       "    <tr>\n",
       "      <th>3</th>\n",
       "      <td>4</td>\n",
       "      <td>116.0</td>\n",
       "      <td>Adventure,Comedy,Sci-Fi</td>\n",
       "      <td>Not Documentary</td>\n",
       "    </tr>\n",
       "    <tr>\n",
       "      <th>4</th>\n",
       "      <td>5</td>\n",
       "      <td>161.0</td>\n",
       "      <td>Western</td>\n",
       "      <td>Not Documentary</td>\n",
       "    </tr>\n",
       "    <tr>\n",
       "      <th>...</th>\n",
       "      <td>...</td>\n",
       "      <td>...</td>\n",
       "      <td>...</td>\n",
       "      <td>...</td>\n",
       "    </tr>\n",
       "    <tr>\n",
       "      <th>16739</th>\n",
       "      <td>16740</td>\n",
       "      <td>120.0</td>\n",
       "      <td>Comedy,Family,Fantasy,Horror</td>\n",
       "      <td>Not Documentary</td>\n",
       "    </tr>\n",
       "    <tr>\n",
       "      <th>16740</th>\n",
       "      <td>16741</td>\n",
       "      <td>90.0</td>\n",
       "      <td>Comedy,Family,Sci-Fi</td>\n",
       "      <td>Not Documentary</td>\n",
       "    </tr>\n",
       "    <tr>\n",
       "      <th>16741</th>\n",
       "      <td>16742</td>\n",
       "      <td>NaN</td>\n",
       "      <td>Documentary</td>\n",
       "      <td>Documentary</td>\n",
       "    </tr>\n",
       "    <tr>\n",
       "      <th>16742</th>\n",
       "      <td>16743</td>\n",
       "      <td>NaN</td>\n",
       "      <td>Documentary</td>\n",
       "      <td>Documentary</td>\n",
       "    </tr>\n",
       "    <tr>\n",
       "      <th>16743</th>\n",
       "      <td>16744</td>\n",
       "      <td>32.0</td>\n",
       "      <td>Documentary,Short,Family</td>\n",
       "      <td>Documentary</td>\n",
       "    </tr>\n",
       "  </tbody>\n",
       "</table>\n",
       "<p>16744 rows × 4 columns</p>\n",
       "</div>"
      ],
      "text/plain": [
       "          ID  Runtime                            Genres          Gen_doc\n",
       "0          1    148.0  Action,Adventure,Sci-Fi,Thriller  Not Documentary\n",
       "1          2    136.0                     Action,Sci-Fi  Not Documentary\n",
       "2          3    149.0           Action,Adventure,Sci-Fi  Not Documentary\n",
       "3          4    116.0           Adventure,Comedy,Sci-Fi  Not Documentary\n",
       "4          5    161.0                           Western  Not Documentary\n",
       "...      ...      ...                               ...              ...\n",
       "16739  16740    120.0      Comedy,Family,Fantasy,Horror  Not Documentary\n",
       "16740  16741     90.0              Comedy,Family,Sci-Fi  Not Documentary\n",
       "16741  16742      NaN                       Documentary      Documentary\n",
       "16742  16743      NaN                       Documentary      Documentary\n",
       "16743  16744     32.0          Documentary,Short,Family      Documentary\n",
       "\n",
       "[16744 rows x 4 columns]"
      ]
     },
     "execution_count": 27,
     "metadata": {},
     "output_type": "execute_result"
    }
   ],
   "source": [
    "mov_ott_subset"
   ]
  },
  {
   "cell_type": "code",
   "execution_count": null,
   "id": "242e5f12",
   "metadata": {},
   "outputs": [],
   "source": []
  }
 ],
 "metadata": {
  "kernelspec": {
   "display_name": "Python 3 (ipykernel)",
   "language": "python",
   "name": "python3"
  },
  "language_info": {
   "codemirror_mode": {
    "name": "ipython",
    "version": 3
   },
   "file_extension": ".py",
   "mimetype": "text/x-python",
   "name": "python",
   "nbconvert_exporter": "python",
   "pygments_lexer": "ipython3",
   "version": "3.9.7"
  }
 },
 "nbformat": 4,
 "nbformat_minor": 5
}
